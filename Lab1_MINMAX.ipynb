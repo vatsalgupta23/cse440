{
  "cells": [
    {
      "cell_type": "markdown",
      "metadata": {
        "id": "M46OLTJcVSqr"
      },
      "source": [
        "## Tic-Tac-Toe game\n",
        "Tic-Tac-Toe is a simple, turn-based board game played on a 3×3 grid by two players, traditionally labeled X and O. Two players take turns placing their marks into empty squares. The goal is to be the first to get three of your marks in a row—vertically, horizontally, or diagonally. If all squares are filled and neither player has three in a row, the game is a draw.\n",
        "\n",
        "<div align=\"center\">\n",
        "    <img src=\"https://github.com/Michigan-State-University-CSE-440/Minimax/blob/main/assets/rule.png?raw=1\" alt=\"Description\" width=\"600\" height=\"200\">\n",
        "</div>\n",
        "\n",
        "As we learnt in the class, Minimax is a classic algorithm used to make decisions in two-player, turn-based games—like Tic-Tac-Toe, Connect Four, or Chess. By simulating all possible moves and assuming each player tries to optimize their own outcome, minimax can find the move that maximizes the AI’s chances of winning (or at least forces a draw).\n",
        "\n",
        "In this lab, we will use minimax algorithm to create a simple AI player for the tic-tac-toe game. This AI will look ahead at every possible move it can make, consider every response the opponent could give, and then choose the move that guarantees the best final result for itself.\n",
        "\n",
        "Before creating a game AI, we will first introduce the specific game settings for this implementation. Then, we will learn how to apply the MINIMAX algorithm to this game scenario.\n",
        "\n",
        "### Represent the Game States\n",
        "1. Board State: We use a simple 3×3 board, often stored as a list or array of 9 cells. Each cell can be:\n",
        "- ‘X’ for the AI’s move,\n",
        "- ‘O’ for the human player’s move,\n",
        "- None (or empty) for an unoccupied cell.\n",
        "2.\tTurns: We alternate between the AI (X) and the human (O).\n",
        "\n",
        "### Terminal Conditions\n",
        "A terminal state is a board configuration where:\n",
        "1. Either player (human or AI) has formed three in a row: horizontal, vertical, or diagonal,\n",
        "2. or the board is completely filled which results in a draw.\n",
        "\n",
        "At the end of each round, i.e., after achieving terminal condition, we give each outcome a score from the perspective of the AI:\n",
        "- +1 if X (the AI) has won,\n",
        "- -1 if O (the human) has won,\n",
        "- 0 if it’s a draw or no further moves remain.\n",
        "\n",
        "### Recap the MINIMAX Tree\n",
        "<div align=\"center\">\n",
        "    <img src=\"https://github.com/Michigan-State-University-CSE-440/Minimax/blob/main/assets/minimax_tree.png?raw=1\" alt=\"Description\" width=\"700\" height=\"450\">\n",
        "</div>\n",
        "\n",
        "This minimax tree shows how the Tic-Tac-Toe game progresses through alternating turns between two players—MAX (X) and MIN (O). Each node in the tree is a snapshot of the game board at a given turn, while each branch represents a possible move. Here’s how it applies the minimax algorithm:\n",
        "1.\tMAX (X) levels: On X’s (AI's) turn, the algorithm explores all possible moves for X. Then it selects the move that yields the highest utility—because X is trying to maximize the outcome in its favor.\n",
        "\n",
        "2.\tMIN (O) levels: On O’s (human's) turn, the algorithm similarly explores all possible O moves, but selects the move that leads to the lowest utility—because O is trying to minimize X’s chances of winning.\n",
        "\n",
        "3.\tBottom-Up Evaluation: The values (+1, −1, 0) from the terminal positions propagate up the tree:\n",
        "- At MIN levels, the chosen value is the minimum of the child nodes.\n",
        "- At MAX levels, it’s the maximum of the child nodes.\n",
        "\n",
        "Through this process, each branch of the game tree is evaluated, and each player’s optimal strategy is determined at every step, ensuring that AI picks the best move (if one exists) and human counters with the best defense."
      ]
    },
    {
      "cell_type": "markdown",
      "metadata": {
        "id": "CghrwXjyGH36"
      },
      "source": [
        "### Example of MINIMAX Tree Construction\n",
        "Next, we need to construct a MINIMAX tree on our own, and then find out the optimal strategy for AI. To avoid constructing and reasoning through an overly complex MINIMAX tree, we will intervene in the game at a specific state and simulate the AI’s moves to ensure victory (or at least not losing).\n",
        "\n",
        "Here is an example of the way to use MINIMAX for a partial board. You need to learn from it and finish the following practice.\n",
        "\n",
        "**Initial State**:\n",
        "<div align=\"center\">\n",
        "    <img src=\"https://github.com/Michigan-State-University-CSE-440/Minimax/blob/main/assets/example_1.png?raw=1\" alt=\"Description\" width=\"100\" height=\"100\">\n",
        "</div>\n",
        "\n",
        "**Top to Bottom**: First, we need to construct the MINIMAX tree from top to bottom. Specifically, we need to list all possible subsequent states based on the current state and repeat this process until achieve the terminal condition. In this example, both X and O have three pieces in the initial state, so the AI will make the first move. The letter on the left of each state corresponds to that specific state, which can be helpful for us to represent a certain state in our subsequent calculations.\n",
        "<div align=\"center\">\n",
        "    <img src=\"https://github.com/Michigan-State-University-CSE-440/Minimax/blob/main/assets/example_2.png?raw=1\" alt=\"Description\" width=\"750\" height=\"450\">\n",
        "</div>\n",
        "\n",
        "**Bottom to Top**: Second, we need to calculate the value of each state (node) from bottom to top based on the MINIMAX calculation method.  \n",
        "Depth = 2:  \n",
        "State E: V = MAX(+1) = +1  \n",
        "State F: V = MAX(0) = 0  \n",
        "State G: V = MAX(+1) = +1  \n",
        "State H: V = MAX(0) = 0\n",
        "\n",
        "Depth = 1:  \n",
        "State B: V = MIN(Value of E, Value of F) = MIN(+1, 0) = 0  \n",
        "State C: V = MIN(Value of G, Value of H) = MIN(+1, 0) = 0  \n",
        "State D: V = Min(+1) = +1  \n",
        "\n",
        "Depth = 0:  \n",
        "State A: V = Max(Value of B, Value of C, Value of D) = Max(0, 0, +1) = +1\n",
        "\n",
        "Therefore, in the initial state, the AI’s optimal strategy is to place its mark on the **bottom-right corner** of the board, which will lead to victory."
      ]
    },
    {
      "cell_type": "markdown",
      "metadata": {
        "id": "V_NjPjE6GH36"
      },
      "source": [
        "## Task 1: Construct MINIMAX Tree Manually\n",
        "\n",
        "In this task, you should manually construct a MINIMAX tree for the given partial game board, just like in the example above, to determine the optimal move for X.\n",
        "\n",
        "**Note**: You cannot provide the result only; the **calculation process** following the above example must be included to get full credit. Only the **Botton to Top** calculation should be provided, the Top to Bottom process can be finished on your draft paper.\n",
        "\n",
        "**Initial State**:\n",
        "<div align=\"center\">\n",
        "    <img src=\"https://github.com/Michigan-State-University-CSE-440/Minimax/blob/main/assets/practice_1.png?raw=1\" alt=\"Description\" width=\"100\" height=\"100\">\n",
        "</div>"
      ]
    },
    {
      "cell_type": "markdown",
      "metadata": {
        "id": "UeMselK3GH37"
      },
      "source": [
        "**Answer**:  \n",
        "**Bottom to Top**:\n",
        "\n"
      ]
    },
    {
      "cell_type": "markdown",
      "metadata": {
        "id": "XSj394vcDHZ_"
      },
      "source": [
        "## Task 2: Complete MINMAX Algorithm and Enojoy Game\n",
        "\n",
        "In this task, you need to programmatically complete the key steps within the *value*, *max_value*, and *min_value* functions of the MINIMAX algorithm. **You only need to complete the sections marked with TODO**, as the rest of the code is complete and correct. This slide will be a helpful reference as you work through the task.\n",
        "\n",
        "<div align=\"center\">\n",
        "    <img src=\"https://github.com/Michigan-State-University-CSE-440/Minimax/blob/main/assets/framework.png?raw=1\" alt=\"Description\" width=\"930\" height=\"450\">\n",
        "</div>\n"
      ]
    },
    {
      "cell_type": "code",
      "execution_count": null,
      "metadata": {
        "id": "hYkFAo__6QtJ"
      },
      "outputs": [],
      "source": [
        "# Some utility functions for Tic-Tac-Toe\n",
        "# No need to modify this code\n",
        "\n",
        "import math\n",
        "\n",
        "def print_board(board):\n",
        "    \"\"\"\n",
        "    Prints a 3x3 Tic-Tac-Toe board.\n",
        "\n",
        "    If a cell is empty (None), we print its index (0-8).\n",
        "    Otherwise, we print the player's symbol ('X' or 'O').\n",
        "    \"\"\"\n",
        "    print(\"------------- Current Board -------------\")\n",
        "    for i in range(9):\n",
        "        cell = board[i]\n",
        "        if cell is None:\n",
        "            # Show the cell index if empty\n",
        "            print(i, end=\" \")\n",
        "        else:\n",
        "            # Show 'X' or 'O'\n",
        "            print(cell, end=\" \")\n",
        "\n",
        "        # After every 3 cells, move to the next line\n",
        "        if i % 3 == 2:\n",
        "            print()\n",
        "    print(\"-----------------------------------------\")\n",
        "    print()\n",
        "\n",
        "\n",
        "def check_winner(board):\n",
        "    \"\"\"\n",
        "    Checks if there is a winner on the board.\n",
        "    Returns 'X' if X wins, 'O' if O wins, or None if no winner yet.\n",
        "    \"\"\"\n",
        "    # Possible winning lines (3 rows, 3 cols, 2 diagonals)\n",
        "    winning_positions = [\n",
        "        (0,1,2), (3,4,5), (6,7,8),  # Rows\n",
        "        (0,3,6), (1,4,7), (2,5,8),  # Cols\n",
        "        (0,4,8), (2,4,6)            # Diagonals\n",
        "    ]\n",
        "\n",
        "    for (a, b, c) in winning_positions:\n",
        "        if board[a] is not None and board[a] == board[b] == board[c]:\n",
        "            return board[a]  # 'X' or 'O'\n",
        "\n",
        "    return None  # No winner\n",
        "\n",
        "def is_draw(board):\n",
        "    \"\"\"Checks if the board is full and there is no winner.\"\"\"\n",
        "    return all(cell is not None for cell in board) and check_winner(board) is None\n",
        "\n",
        "def find_best_move(board):\n",
        "    \"\"\"\n",
        "    Finds the best move for 'X' (the AI).\n",
        "    Returns the index (0-8) where 'X' should move\n",
        "    such that it maximizes its final outcome (score).\n",
        "    \"\"\"\n",
        "    best_score = -math.inf\n",
        "    best_move = -1\n",
        "\n",
        "    # Try placing 'X' in each empty cell to see which move is best.\n",
        "    for i in range(9):\n",
        "        if board[i] is None:\n",
        "            board[i] = 'X'  # Simulate X's move in cell i\n",
        "\n",
        "            # After X moves, it's O's turn (MIN player),\n",
        "            # so we call value(...) with is_maximizing=False.\n",
        "            move_score = value(board, is_maximizing=False)\n",
        "\n",
        "            # Undo the move\n",
        "            board[i] = None\n",
        "\n",
        "            # Keep track of the best (maximum) score among all possible moves\n",
        "            if move_score > best_score:\n",
        "                best_score = move_score\n",
        "                best_move = i\n",
        "\n",
        "    return best_move"
      ]
    },
    {
      "cell_type": "markdown",
      "metadata": {
        "id": "oBNHHuhAGH39"
      },
      "source": [
        "### Subtask 2.1\n",
        "In this subtask, you need to complete the *value* function. When *is_maximizing* is equal to *True*, the next agent is MAX (AI), and when it is equal to *False*, the next agent is MIN (human). You should call the appropriate function that looks for the minimum score (min_value) or maximum score (max_value)."
      ]
    },
    {
      "cell_type": "code",
      "execution_count": null,
      "metadata": {
        "id": "o8hMx8IsGH3-"
      },
      "outputs": [],
      "source": [
        "import math\n",
        "\n",
        "def value(board, is_maximizing):\n",
        "    \"\"\"\n",
        "    This function decides which part of the minimax process to apply.\n",
        "    - If the board is in a terminal state (win, loss, or draw), we return a utility score.\n",
        "    - Otherwise, it calls either max_value (if it's X's turn) or min_value (if it's O's turn).\n",
        "\n",
        "    Parameters:\n",
        "    board: list\n",
        "        A list of 9 elements representing the Tic-Tac-Toe board.\n",
        "        Each element can be 'X', 'O', or None (empty).\n",
        "    is_maximizing: bool\n",
        "        True if it's the 'X' (AI) player's turn, False if it's the 'O' (human) player's turn.\n",
        "\n",
        "    Returns:\n",
        "    int\n",
        "        The score from X's perspective: +1 for X win, -1 for O win, 0 for draw (when terminal).\n",
        "        If not terminal, the score is the maximum or minimum returned by the children nodes.\n",
        "    \"\"\"\n",
        "\n",
        "    # 1. Check terminal conditions (win, loss, or draw).\n",
        "    winner = check_winner(board)\n",
        "    if winner == 'X':\n",
        "        # If X has won, we return +1.\n",
        "        return +1\n",
        "    elif winner == 'O':\n",
        "        # If O has won, we return -1.\n",
        "        return -1\n",
        "    elif is_draw(board):\n",
        "        # If the board is full and no winner, it's a draw, so we return 0.\n",
        "        return 0\n",
        "\n",
        "    # 2. Not a terminal state, so we need to explore deeper.\n",
        "    if is_maximizing:\n",
        "        ############################TODO################################\n",
        "\n",
        "        ############################TODO################################\n",
        "    else:\n",
        "        ############################TODO################################\n",
        "\n",
        "        ############################TODO################################"
      ]
    },
    {
      "cell_type": "markdown",
      "metadata": {
        "id": "GvfC7ilBGH3-"
      },
      "source": [
        "### Subtask 2.2\n",
        "In this subtask, you need to complete the *max_value* and *min_value* functions. Specifically, as shown in the slide, you need to call the value function during each iteration of the loop to ultimately obtain the maximum or minimum value at current state. Make sure to correctly set the *is_maximizing* variable to properly recurse into the subsequent calls of the *max_value* or *min_value* functions."
      ]
    },
    {
      "cell_type": "code",
      "execution_count": null,
      "metadata": {
        "id": "ah9B0_D3GH3-"
      },
      "outputs": [],
      "source": [
        "def max_value(board):\n",
        "    \"\"\"\n",
        "    This function computes the best possible move for X (the 'max' player).\n",
        "    It returns the maximum score that X can achieve among all possible moves.\n",
        "\n",
        "    Parameters:\n",
        "    board: list\n",
        "        The current Tic-Tac-Toe board.\n",
        "\n",
        "    Returns:\n",
        "    int\n",
        "        The highest minimax score X can force from this position.\n",
        "    \"\"\"\n",
        "\n",
        "    # Start with the worst possible score for the maximizer (negative infinity).\n",
        "    v = -math.inf\n",
        "\n",
        "    # Check all possible moves to find the successor of current board state.\n",
        "    for i in range(9):\n",
        "        if board[i] is None: # If the cell is empty, we can make a move.\n",
        "            # Temporarily put 'X' in cell i\n",
        "            board[i] = 'X'\n",
        "            ############################TODO################################\n",
        "\n",
        "\n",
        "            #############################END################################\n",
        "\n",
        "            # Undo the move (backtrack) to restore the board state.\n",
        "            board[i] = None\n",
        "\n",
        "\n",
        "    # Return the maximum score found.\n",
        "    return v"
      ]
    },
    {
      "cell_type": "code",
      "execution_count": null,
      "metadata": {
        "id": "Hr0G5xEmGH3_"
      },
      "outputs": [],
      "source": [
        "def min_value(board):\n",
        "    \"\"\"\n",
        "    This function computes the best possible move for O (the 'min' player),\n",
        "    from X's perspective. O tries to minimize X's score.\n",
        "\n",
        "    Parameters:\n",
        "    board: list\n",
        "        The current Tic-Tac-Toe board.\n",
        "\n",
        "    Returns:\n",
        "    int\n",
        "        The lowest minimax score X gets if O plays optimally.\n",
        "    \"\"\"\n",
        "\n",
        "    # Start with the best possible score for O from X's perspective (positive infinity).\n",
        "    # We want to force X's score down.\n",
        "    v = math.inf\n",
        "\n",
        "    # Check all possible moves to find the successor of current board state.\n",
        "    for i in range(9):\n",
        "        if board[i] is None: # If the cell is empty, we can make a move.\n",
        "            # Temporarily put 'O' in cell i.\n",
        "            board[i] = 'O'\n",
        "            ############################TODO################################\n",
        "\n",
        "            #############################END################################\n",
        "            # Undo the move (backtrack).\n",
        "            board[i] = None\n",
        "\n",
        "    # Return the minimum score found.\n",
        "    return v"
      ]
    },
    {
      "cell_type": "markdown",
      "metadata": {
        "id": "Z21sgZCnGH3_"
      },
      "source": [
        "### Run the Program\n",
        "to see if you can beat the AI you creat."
      ]
    },
    {
      "cell_type": "code",
      "execution_count": null,
      "metadata": {
        "id": "FiZZnUVh7ndn"
      },
      "outputs": [],
      "source": [
        "# ------------------------------------------------------------\n",
        "# 3. Main Game Loop\n",
        "# ------------------------------------------------------------\n",
        "\"\"\"\n",
        "Lets a human ('O') play against an AI ('X') using minimax.\n",
        "The AI (X) goes first.\n",
        "\"\"\"\n",
        "board = [None] * 9  # 3x3 empty board\n",
        "\n",
        "######################### TODO #########################\n",
        "current_player = 'X'  # Start with AI (X)\n",
        "# try to switch the order\n",
        "########################################################\n",
        "\n",
        "while True:\n",
        "    print_board(board)\n",
        "    winner = check_winner(board)\n",
        "    if winner is not None:\n",
        "        print(f\"Game over! Winner: {winner}\")\n",
        "        break\n",
        "    if is_draw(board):\n",
        "        print(\"Game over! It's a draw.\")\n",
        "        break\n",
        "\n",
        "    if current_player == 'X':\n",
        "        # AI Move\n",
        "        print(\"AI (X) is thinking...\\n\")\n",
        "        move = find_best_move(board)\n",
        "        board[move] = 'X'\n",
        "        current_player = 'O'\n",
        "    else:\n",
        "        # Human Move\n",
        "        valid_moves = [i for i in range(9) if board[i] is None]\n",
        "        print(f\"Human (O), choose your move from {valid_moves}.\")\n",
        "        try:\n",
        "            human_move = int(input(\"Enter a position (0-8): \"))\n",
        "        except ValueError:\n",
        "            print(\"Please enter a valid number!\")\n",
        "            continue\n",
        "\n",
        "        if human_move not in valid_moves:\n",
        "            print(\"Invalid move. Try again.\")\n",
        "            continue\n",
        "\n",
        "        board[human_move] = 'O'\n",
        "        current_player = 'X'"
      ]
    },
    {
      "cell_type": "code",
      "execution_count": null,
      "metadata": {
        "id": "2_7MJ82t8wxq"
      },
      "outputs": [],
      "source": []
    }
  ],
  "metadata": {
    "colab": {
      "provenance": []
    },
    "kernelspec": {
      "display_name": "Python 3",
      "name": "python3"
    },
    "language_info": {
      "codemirror_mode": {
        "name": "ipython",
        "version": 3
      },
      "file_extension": ".py",
      "mimetype": "text/x-python",
      "name": "python",
      "nbconvert_exporter": "python",
      "pygments_lexer": "ipython3",
      "version": "3.9.6"
    }
  },
  "nbformat": 4,
  "nbformat_minor": 0
}